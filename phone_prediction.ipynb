{
 "cells": [
  {
   "cell_type": "code",
   "execution_count": 4,
   "id": "779ed71b-13cc-4b39-b296-76c4990c877a",
   "metadata": {},
   "outputs": [
    {
     "name": "stdout",
     "output_type": "stream",
     "text": [
      "                                               Title Rating Reviews   Price  \\\n",
      "0  Redmi Note 13 Pro+ (Fusion Black, 8GB RAM, 256...    3.8     684  33,999   \n",
      "1  Samsung Galaxy M05 (Mint Green, 4GB RAM, 64 GB...    3.8      60   9,999   \n",
      "2  realme NARZO N61 (Marble Black,6GB RAM+128GB S...    4.1     346  10,999   \n",
      "3  realme NARZO N61 (Voyage Blue,6GB RAM+128GB St...    4.1     346  10,999   \n",
      "4            POCO C61 Ethereal Blue 4GB RAM 64GB ROM    3.5      27   8,999   \n",
      "\n",
      "                                           Image URL  \\\n",
      "0  https://m.media-amazon.com/images/I/71nrf4zgq5...   \n",
      "1  https://m.media-amazon.com/images/I/81T3olLXpU...   \n",
      "2  https://m.media-amazon.com/images/I/71EN6N9kUE...   \n",
      "3  https://m.media-amazon.com/images/I/71r0Ysx+oV...   \n",
      "4  https://m.media-amazon.com/images/I/712tqhtIw1...   \n",
      "\n",
      "                                         Product URL  \n",
      "0  https://www.amazon.in/sspa/click?ie=UTF8&spc=M...  \n",
      "1  https://www.amazon.in/Samsung-Storage-Display-...  \n",
      "2  https://www.amazon.in/realme-Storage-Comfort-R...  \n",
      "3  https://www.amazon.in/realme-Storage-Comfort-R...  \n",
      "4  https://www.amazon.in/POCO-C61-Ethereal-Blue-6...  \n"
     ]
    }
   ],
   "source": [
    "import pandas as pd\n",
    "\n",
    "# Load the dataset\n",
    "data = pd.read_csv('dataset.csv')\n",
    "\n",
    "# Display the first few rows\n",
    "print(data.head())\n"
   ]
  },
  {
   "cell_type": "code",
   "execution_count": 5,
   "id": "e14d2c2d-725b-4fe2-953f-d960c5ebfb28",
   "metadata": {},
   "outputs": [
    {
     "data": {
      "text/html": [
       "<div>\n",
       "<style scoped>\n",
       "    .dataframe tbody tr th:only-of-type {\n",
       "        vertical-align: middle;\n",
       "    }\n",
       "\n",
       "    .dataframe tbody tr th {\n",
       "        vertical-align: top;\n",
       "    }\n",
       "\n",
       "    .dataframe thead th {\n",
       "        text-align: right;\n",
       "    }\n",
       "</style>\n",
       "<table border=\"1\" class=\"dataframe\">\n",
       "  <thead>\n",
       "    <tr style=\"text-align: right;\">\n",
       "      <th></th>\n",
       "      <th>Title</th>\n",
       "      <th>Rating</th>\n",
       "      <th>Reviews</th>\n",
       "      <th>Price</th>\n",
       "      <th>Image URL</th>\n",
       "      <th>Product URL</th>\n",
       "      <th>Processed_Title</th>\n",
       "    </tr>\n",
       "  </thead>\n",
       "  <tbody>\n",
       "    <tr>\n",
       "      <th>0</th>\n",
       "      <td>Redmi Note 13 Pro+ (Fusion Black, 8GB RAM, 256...</td>\n",
       "      <td>3.8</td>\n",
       "      <td>684</td>\n",
       "      <td>33,999</td>\n",
       "      <td>https://m.media-amazon.com/images/I/71nrf4zgq5...</td>\n",
       "      <td>https://www.amazon.in/sspa/click?ie=UTF8&amp;spc=M...</td>\n",
       "      <td>redmi note 13 pro fusion black 8gb ram 256gb s...</td>\n",
       "    </tr>\n",
       "    <tr>\n",
       "      <th>1</th>\n",
       "      <td>Samsung Galaxy M05 (Mint Green, 4GB RAM, 64 GB...</td>\n",
       "      <td>3.8</td>\n",
       "      <td>60</td>\n",
       "      <td>9,999</td>\n",
       "      <td>https://m.media-amazon.com/images/I/81T3olLXpU...</td>\n",
       "      <td>https://www.amazon.in/Samsung-Storage-Display-...</td>\n",
       "      <td>samsung galaxy m05 mint green 4gb ram 64 gb st...</td>\n",
       "    </tr>\n",
       "    <tr>\n",
       "      <th>2</th>\n",
       "      <td>realme NARZO N61 (Marble Black,6GB RAM+128GB S...</td>\n",
       "      <td>4.1</td>\n",
       "      <td>346</td>\n",
       "      <td>10,999</td>\n",
       "      <td>https://m.media-amazon.com/images/I/71EN6N9kUE...</td>\n",
       "      <td>https://www.amazon.in/realme-Storage-Comfort-R...</td>\n",
       "      <td>realme narzo n61 marble black6gb ram128gb stor...</td>\n",
       "    </tr>\n",
       "    <tr>\n",
       "      <th>3</th>\n",
       "      <td>realme NARZO N61 (Voyage Blue,6GB RAM+128GB St...</td>\n",
       "      <td>4.1</td>\n",
       "      <td>346</td>\n",
       "      <td>10,999</td>\n",
       "      <td>https://m.media-amazon.com/images/I/71r0Ysx+oV...</td>\n",
       "      <td>https://www.amazon.in/realme-Storage-Comfort-R...</td>\n",
       "      <td>realme narzo n61 voyage blue6gb ram128gb stora...</td>\n",
       "    </tr>\n",
       "    <tr>\n",
       "      <th>4</th>\n",
       "      <td>POCO C61 Ethereal Blue 4GB RAM 64GB ROM</td>\n",
       "      <td>3.5</td>\n",
       "      <td>27</td>\n",
       "      <td>8,999</td>\n",
       "      <td>https://m.media-amazon.com/images/I/712tqhtIw1...</td>\n",
       "      <td>https://www.amazon.in/POCO-C61-Ethereal-Blue-6...</td>\n",
       "      <td>poco c61 ethereal blue 4gb ram 64gb rom</td>\n",
       "    </tr>\n",
       "  </tbody>\n",
       "</table>\n",
       "</div>"
      ],
      "text/plain": [
       "                                               Title Rating Reviews   Price  \\\n",
       "0  Redmi Note 13 Pro+ (Fusion Black, 8GB RAM, 256...    3.8     684  33,999   \n",
       "1  Samsung Galaxy M05 (Mint Green, 4GB RAM, 64 GB...    3.8      60   9,999   \n",
       "2  realme NARZO N61 (Marble Black,6GB RAM+128GB S...    4.1     346  10,999   \n",
       "3  realme NARZO N61 (Voyage Blue,6GB RAM+128GB St...    4.1     346  10,999   \n",
       "4            POCO C61 Ethereal Blue 4GB RAM 64GB ROM    3.5      27   8,999   \n",
       "\n",
       "                                           Image URL  \\\n",
       "0  https://m.media-amazon.com/images/I/71nrf4zgq5...   \n",
       "1  https://m.media-amazon.com/images/I/81T3olLXpU...   \n",
       "2  https://m.media-amazon.com/images/I/71EN6N9kUE...   \n",
       "3  https://m.media-amazon.com/images/I/71r0Ysx+oV...   \n",
       "4  https://m.media-amazon.com/images/I/712tqhtIw1...   \n",
       "\n",
       "                                         Product URL  \\\n",
       "0  https://www.amazon.in/sspa/click?ie=UTF8&spc=M...   \n",
       "1  https://www.amazon.in/Samsung-Storage-Display-...   \n",
       "2  https://www.amazon.in/realme-Storage-Comfort-R...   \n",
       "3  https://www.amazon.in/realme-Storage-Comfort-R...   \n",
       "4  https://www.amazon.in/POCO-C61-Ethereal-Blue-6...   \n",
       "\n",
       "                                     Processed_Title  \n",
       "0  redmi note 13 pro fusion black 8gb ram 256gb s...  \n",
       "1  samsung galaxy m05 mint green 4gb ram 64 gb st...  \n",
       "2  realme narzo n61 marble black6gb ram128gb stor...  \n",
       "3  realme narzo n61 voyage blue6gb ram128gb stora...  \n",
       "4            poco c61 ethereal blue 4gb ram 64gb rom  "
      ]
     },
     "execution_count": 5,
     "metadata": {},
     "output_type": "execute_result"
    }
   ],
   "source": [
    "import re\n",
    "\n",
    "def preprocess_text(text):\n",
    "    # Lowercase\n",
    "    text = text.lower()\n",
    "    # Remove special characters\n",
    "    text = re.sub(r'[^a-z0-9\\s]', '', text)\n",
    "    return text\n",
    "\n",
    "# Apply preprocessing to the Title column\n",
    "data['Processed_Title'] = data['Title'].apply(preprocess_text)\n",
    "data.head()"
   ]
  },
  {
   "cell_type": "markdown",
   "id": "dc520712-3880-487a-b5fc-d81cb1e1d4b8",
   "metadata": {},
   "source": [
    "### Price Prediction using Random Forest Classifier"
   ]
  },
  {
   "cell_type": "code",
   "execution_count": 6,
   "id": "aca94256-4196-4206-bfa4-d4e1668292c0",
   "metadata": {},
   "outputs": [],
   "source": [
    "from sklearn.feature_extraction.text import TfidfVectorizer\n",
    "\n",
    "# Initialize TF-IDF Vectorizer\n",
    "tfidf_vectorizer = TfidfVectorizer(max_features=5000)  # Limit to 5000 features\n",
    "\n",
    "# Fit and transform the titles\n",
    "X_tfidf = tfidf_vectorizer.fit_transform(data['Processed_Title']).toarray()"
   ]
  },
  {
   "cell_type": "code",
   "execution_count": 11,
   "id": "c437daa5-a42e-49b3-98f2-5f2e8051efc9",
   "metadata": {},
   "outputs": [
    {
     "name": "stdout",
     "output_type": "stream",
     "text": [
      "0    33999.0\n",
      "1     9999.0\n",
      "2    10999.0\n",
      "3    10999.0\n",
      "4     8999.0\n",
      "Name: Price, dtype: float64\n"
     ]
    }
   ],
   "source": [
    "def convert_price(price):\n",
    "    # Remove any commas\n",
    "    price_cleaned = price.replace(',', '')\n",
    "    # Convert to float\n",
    "    return float(price_cleaned)\n",
    "\n",
    "# Convert the Price column to numeric\n",
    "data['Price'] = data['Price'].apply(convert_price)\n",
    "\n",
    "# Check the conversion\n",
    "print(data['Price'].head())\n",
    "\n",
    "y = data['Price'].values "
   ]
  },
  {
   "cell_type": "code",
   "execution_count": 12,
   "id": "a899aaef-66ac-492f-8f45-552fff5e8a8a",
   "metadata": {},
   "outputs": [],
   "source": [
    "from sklearn.model_selection import train_test_split\n",
    "\n",
    "# Split the dataset\n",
    "X_train, X_test, y_train, y_test = train_test_split(X_tfidf, y, test_size=0.2, random_state=42)"
   ]
  },
  {
   "cell_type": "code",
   "execution_count": null,
   "id": "e5353338-6ff5-4d55-a871-12e258b24a51",
   "metadata": {},
   "outputs": [],
   "source": [
    "from sklearn.model_selection import GridSearchCV\n",
    "\n",
    "# Define the parameter grid\n",
    "param_grid = {\n",
    "    'n_estimators': [50, 100, 150, 200],\n",
    "    'max_depth': [None, 10, 20, 30, 50],\n",
    "    'min_samples_split': [2, 3, 4, 5]\n",
    "}\n",
    "\n",
    "# Set up GridSearchCV\n",
    "grid_search = GridSearchCV(RandomForestRegressor(random_state=42), param_grid, cv=5, scoring='neg_mean_squared_error', n_jobs=-1)\n",
    "\n",
    "# Fit the model\n",
    "grid_search.fit(X_train, y_train)\n",
    "\n",
    "# Get the best parameters\n",
    "print(\"Best parameters found: \", grid_search.best_params_)\n",
    "\n",
    "# Use the best estimator to predict\n",
    "best_rf_model = grid_search.best_estimator_\n",
    "y_pred_best = best_rf_model.predict(X_test)\n",
    "\n",
    "# Evaluate the tuned model\n",
    "mse_best = mean_squared_error(y_test, y_pred_best)\n",
    "print(f'Mean Squared Error (Tuned Model): {mse_best}')\n"
   ]
  },
  {
   "cell_type": "code",
   "execution_count": 25,
   "id": "c01a3ee3-b840-4f71-a83f-df05aaaae3c6",
   "metadata": {},
   "outputs": [
    {
     "name": "stdout",
     "output_type": "stream",
     "text": [
      "Mean Squared Error: 19141255.649093784\n"
     ]
    }
   ],
   "source": [
    "from sklearn.linear_model import LinearRegression\n",
    "from sklearn.ensemble import RandomForestRegressor\n",
    "from sklearn.metrics import mean_squared_error\n",
    "\n",
    "rf_model = RandomForestRegressor(n_estimators=150, random_state=42, max_depth=50, min_samples_split=2)\n",
    "\n",
    "# Train the model\n",
    "rf_model.fit(X_train, y_train)\n",
    "\n",
    "# Make predictions\n",
    "y_pred = rf_model.predict(X_test)\n",
    "\n",
    "# Evaluate the model\n",
    "mse = mean_squared_error(y_test, y_pred)\n",
    "print(f'Mean Squared Error: {mse}')"
   ]
  },
  {
   "cell_type": "code",
   "execution_count": 26,
   "id": "a6c91f5b-4848-4330-9f5f-8d444a303205",
   "metadata": {
    "jp-MarkdownHeadingCollapsed": true
   },
   "outputs": [
    {
     "data": {
      "image/png": "[encoded data removed]",
      "text/plain": [
       "<Figure size 800x400 with 1 Axes>"
      ]
     },
     "metadata": {},
     "output_type": "display_data"
    }
   ],
   "source": [
    "### import matplotlib.pyplot as plt\n",
    "\n",
    "# Plot actual vs predicted prices\n",
    "plt.figure(figsize=(8, 4))\n",
    "plt.scatter(y_test, y_pred, alpha=0.7)\n",
    "plt.xlabel('Actual Prices')\n",
    "plt.ylabel('Predicted Prices')\n",
    "plt.title('Actual vs Predicted Prices')\n",
    "plt.plot([y.min(), y.max()], [y.min(), y.max()], color='red', lw=2)  # Line for perfect predictions\n",
    "plt.show()"
   ]
  },
  {
   "cell_type": "markdown",
   "id": "c5c9f52a-86c6-4a06-a878-1662f852fefd",
   "metadata": {},
   "source": []
  },
  {
   "cell_type": "code",
   "execution_count": null,
   "id": "cfb8277b-a26f-4fe2-92b6-5fddef3e92c6",
   "metadata": {},
   "outputs": [],
   "source": []
  }
 ],
 "metadata": {
  "kernelspec": {
   "display_name": "Python 3 (ipykernel)",
   "language": "python",
   "name": "python3"
  },
  "language_info": {
   "codemirror_mode": {
    "name": "ipython",
    "version": 3
   },
   "file_extension": ".py",
   "mimetype": "text/x-python",
   "name": "python",
   "nbconvert_exporter": "python",
   "pygments_lexer": "ipython3",
   "version": "3.12.3"
  }
 },
 "nbformat": 4,
 "nbformat_minor": 5
}
