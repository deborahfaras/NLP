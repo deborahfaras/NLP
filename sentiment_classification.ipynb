{
 "cells": [
  {
   "cell_type": "code",
   "execution_count": 1,
   "id": "6d203769-cfdd-4405-afdb-f6a60d7656b1",
   "metadata": {},
   "outputs": [],
   "source": [
    "import pandas as pd\n",
    "from sklearn.model_selection import train_test_split\n",
    "from sklearn.feature_extraction.text import TfidfVectorizer\n",
    "from sklearn.linear_model import LogisticRegression\n",
    "from sklearn.metrics import accuracy_score, classification_report\n",
    "import re\n",
    "\n",
    "def preprocess_text(text):\n",
    "    # Lowercase the text\n",
    "    text = text.lower()\n",
    "    # Remove punctuation and non-alphabet characters\n",
    "    text = re.sub(r'[^a-z\\s]', '', text)\n",
    "    # Remove extra whitespace\n",
    "    text = re.sub(r'\\s+', ' ', text).strip()\n",
    "    return text"
   ]
  },
  {
   "cell_type": "code",
   "execution_count": 2,
   "id": "fd3023fb-615c-4410-bf0c-c80a8138729f",
   "metadata": {},
   "outputs": [
    {
     "name": "stdout",
     "output_type": "stream",
     "text": [
      "   label                                             review  \\\n",
      "0      2  Stuning even for the non-gamer: This sound tra...   \n",
      "1      2  The best soundtrack ever to anything.: I'm rea...   \n",
      "2      2  Amazing!: This soundtrack is my favorite music...   \n",
      "3      2  Excellent Soundtrack: I truly like this soundt...   \n",
      "4      2  Remember, Pull Your Jaw Off The Floor After He...   \n",
      "\n",
      "                                    processed_review  sentiment  \n",
      "0  stuning even for the nongamer this sound track...          1  \n",
      "1  the best soundtrack ever to anything im readin...          1  \n",
      "2  amazing this soundtrack is my favorite music o...          1  \n",
      "3  excellent soundtrack i truly like this soundtr...          1  \n",
      "4  remember pull your jaw off the floor after hea...          1  \n"
     ]
    }
   ],
   "source": [
    "# Load training and validation data from text file\n",
    "data = []\n",
    "with open(\"train.ft.txt\", \"r\", encoding=\"utf-8\") as file:\n",
    "    for line in file:\n",
    "        split_line = line.split(\" \", 1)\n",
    "        if len(split_line) > 1:\n",
    "            label, review = split_line\n",
    "            label = int(label.replace(\"__label__\", \"\"))  # Convert '__label__2' to integer\n",
    "            data.append({\"label\": label, \"review\": review.strip()})\n",
    "\n",
    "# Convert to DataFrame\n",
    "df = pd.DataFrame(data)\n",
    "\n",
    "# Preprocess text and map labels to sentiment values (1=positive, 0=negative)\n",
    "df['processed_review'] = df['review'].apply(preprocess_text)\n",
    "df['sentiment'] = df['label'].map({1: 0, 2: 1})  # Map labels: 1 = negative, 2 = positive\n",
    "\n",
    "# Split into training and validation sets\n",
    "X_train, X_val, y_train, y_val = train_test_split(df['processed_review'], df['sentiment'], test_size=0.2, random_state=42)\n",
    "print(df.head())\n"
   ]
  },
  {
   "cell_type": "code",
   "execution_count": 3,
   "id": "46fcb8ff-6f4f-49bb-918c-7015679c72eb",
   "metadata": {},
   "outputs": [
    {
     "name": "stderr",
     "output_type": "stream",
     "text": [
      "C:\\Users\\rajao\\AppData\\Local\\Temp\\ipykernel_15892\\3138914975.py:10: FutureWarning: \n",
      "\n",
      "Passing `palette` without assigning `hue` is deprecated and will be removed in v0.14.0. Assign the `x` variable to `hue` and set `legend=False` for the same effect.\n",
      "\n",
      "  sns.barplot(x=label_counts.index, y=label_counts.values, palette=\"viridis\")\n"
     ]
    },
    {
     "data": {
      "image/png": "[encoded data removed]",
      "text/plain": [
       "<Figure size 300x500 with 1 Axes>"
      ]
     },
     "metadata": {},
     "output_type": "display_data"
    }
   ],
   "source": [
    "import matplotlib.pyplot as plt\n",
    "import seaborn as sns\n",
    "\n",
    "# Set up the style for the plot\n",
    "sns.set(style=\"whitegrid\")\n",
    "\n",
    "# Plot the distribution of positive and negative labels in y_train\n",
    "label_counts = y_train.value_counts()\n",
    "plt.figure(figsize=(3, 5))\n",
    "sns.barplot(x=label_counts.index, y=label_counts.values, palette=\"viridis\")\n",
    "\n",
    "# Set plot labels and title\n",
    "plt.xticks([0, 1], ['Negative', 'Positive'])\n",
    "plt.xlabel(\"Sentiment\")\n",
    "plt.ylabel(\"Number of Reviews\")\n",
    "plt.title(\"Distribution of Positive vs Negative Labels in Training Set\")\n",
    "plt.show()"
   ]
  },
  {
   "cell_type": "code",
   "execution_count": 4,
   "id": "2c89cac0-e478-442c-bffe-17e79de2bf3a",
   "metadata": {},
   "outputs": [],
   "source": [
    "# Load test data from separate text file\n",
    "test_data = []\n",
    "with open(\"test.ft.txt\", \"r\", encoding=\"utf-8\") as file:\n",
    "    for line in file:\n",
    "        split_line = line.split(\" \", 1)\n",
    "        if len(split_line) > 1:\n",
    "            label, review = split_line\n",
    "            label = int(label.replace(\"__label__\", \"\"))  # Convert '__label__2' to integer\n",
    "            test_data.append({\"label\": label, \"review\": review.strip()})\n",
    "\n",
    "# Convert to DataFrame and preprocess\n",
    "df_test = pd.DataFrame(test_data)\n",
    "df_test['processed_review'] = df_test['review'].apply(preprocess_text)\n",
    "df_test['sentiment'] = df_test['label'].map({1: 0, 2: 1})\n",
    "\n",
    "# Separate test features and labels\n",
    "X_test = df_test['processed_review']\n",
    "y_test = df_test['sentiment']\n"
   ]
  },
  {
   "cell_type": "markdown",
   "id": "773a8393-0df6-4894-933d-47d3476cddbe",
   "metadata": {},
   "source": [
    "https://openclassrooms.com/en/courses/6532301-introduction-to-natural-language-processing/8081284-apply-a-simple-bag-of-words-approach"
   ]
  },
  {
   "cell_type": "code",
   "execution_count": 5,
   "id": "94c99ca7-2f1a-4b20-85a4-c09372b962e5",
   "metadata": {},
   "outputs": [
    {
     "name": "stderr",
     "output_type": "stream",
     "text": [
      "[nltk_data] Downloading package wordnet to\n",
      "[nltk_data]     C:\\Users\\rajao\\AppData\\Roaming\\nltk_data...\n",
      "[nltk_data]   Package wordnet is already up-to-date!\n"
     ]
    }
   ],
   "source": [
    "import nltk\n",
    "from nltk.stem import WordNetLemmatizer\n",
    "from sklearn.feature_extraction.text import TfidfVectorizer\n",
    "\n",
    "# Download WordNet data (only needed once)\n",
    "nltk.download('wordnet')\n",
    "\n",
    "# Initialize the lemmatizer\n",
    "lemmatizer = WordNetLemmatizer()\n",
    "\n",
    "# Define a preprocessing function with lemmatization\n",
    "def lemmatize_text(text):\n",
    "    tokens = text.split()  # Simple tokenization by spaces\n",
    "    lemmatized_tokens = [lemmatizer.lemmatize(token) for token in tokens]\n",
    "    return ' '.join(lemmatized_tokens)\n",
    "\n",
    "# Initialize TF-IDF Vectorizer with lemmatization and n-grams\n",
    "vectorizer = TfidfVectorizer(max_features=15000, ngram_range=(1, 2), preprocessor=lemmatize_text)\n",
    "\n",
    "# Fit and transform training data, transform validation and test data\n",
    "X_train_tfidf = vectorizer.fit_transform(X_train)\n",
    "X_val_tfidf = vectorizer.transform(X_val)\n",
    "X_test_tfidf = vectorizer.transform(X_test)\n"
   ]
  },
  {
   "cell_type": "code",
   "execution_count": 6,
   "id": "c08d2b25-e4e7-48ef-a9ed-756fbf24922e",
   "metadata": {},
   "outputs": [
    {
     "name": "stdout",
     "output_type": "stream",
     "text": [
      "Validation Accuracy: 0.9265458333333333\n",
      "Validation Classification Report:\n",
      "               precision    recall  f1-score   support\n",
      "\n",
      "           0       0.93      0.93      0.93    359759\n",
      "           1       0.93      0.93      0.93    360241\n",
      "\n",
      "    accuracy                           0.93    720000\n",
      "   macro avg       0.93      0.93      0.93    720000\n",
      "weighted avg       0.93      0.93      0.93    720000\n",
      "\n"
     ]
    }
   ],
   "source": [
    "# Initialize and train a logistic regression classifier\n",
    "model = LogisticRegression()\n",
    "model.fit(X_train_tfidf, y_train)\n",
    "\n",
    "# Validate the model on validation set\n",
    "y_val_pred = model.predict(X_val_tfidf)\n",
    "print(\"Validation Accuracy:\", accuracy_score(y_val, y_val_pred))\n",
    "print(\"Validation Classification Report:\\n\", classification_report(y_val, y_val_pred))\n"
   ]
  },
  {
   "cell_type": "code",
   "execution_count": 7,
   "id": "893ca99f-58a2-493b-8e16-979d185cfee2",
   "metadata": {},
   "outputs": [
    {
     "name": "stdout",
     "output_type": "stream",
     "text": [
      "\n",
      "=== Test Set Predictions vs True Labels ===\n",
      "Review: long and boring ive read this book with much expectation it was very boring all through out the book\n",
      "True Label: Negative\n",
      "Predicted Label: Negative\n",
      "--------------------------------------------------\n",
      "Review: dont like it this product smells when you open the package and it appears one of the gel cushions leaks so i spent and havent worn then i wouldnt buy this product again dont waste your money on something you may not be able to use\n",
      "True Label: Negative\n",
      "Predicted Label: Negative\n",
      "--------------------------------------------------\n",
      "Review: one of the last in the series to collect the magazine was in very good condition and had the usual high standard of articles and photos that victoria magazine has come to represent i have collected all the previous magazines of the series and still enjoy leafing through them on a rainy day\n",
      "True Label: Positive\n",
      "Predicted Label: Positive\n",
      "--------------------------------------------------\n",
      "Review: sony hi camcorder with lcd i believe i will be very happy with the camcorder its smalllight and easy to handlethe lcd is clear and brightease of operation\n",
      "True Label: Positive\n",
      "Predicted Label: Positive\n",
      "--------------------------------------------------\n",
      "Review: dont take the chance get the se branded cable if you purchase this data cable you need to know that you will receive no real directions or information regarding what to check if nothing works as directed i downloaded all of the files from the se site mb on dial up and then downloaded all of the user guides everything seemed to install ok but nothing would make my phone be recognized after that i scoured the se site for troubleshooting info on their branded cablein the hope that something would help me figure out the problem after full days of beating my head against the wall i finally threw the cable and the useless cd that came with it in the trashif i had used my brain i would have paid the extra for a se branded cable and software and the support that comes along with that i now have the real deal se data cable and software and guess what yep installation was a breeze and it works beautifully you really do get what you pay for\n",
      "True Label: Negative\n",
      "Predicted Label: Negative\n",
      "--------------------------------------------------\n",
      "Review: waste of money like many of the barbie cd roms the playtime is limited averaging about mins for each of my two daughters ages like the barbie movies and other cd roms the graphics are poorly done\n",
      "True Label: Negative\n",
      "Predicted Label: Negative\n",
      "--------------------------------------------------\n",
      "Review: works great i bought this item to connect to a strobe light unit functions well not sure that it has all the range claimed but i never really believe everything a manufacturer claims about a product like this just too many variables i can say it works from my neighbors house into my garage at least going thru two buildings now if i make too much noise later at night he can simply press a button to let me know\n",
      "True Label: Positive\n",
      "Predicted Label: Negative\n",
      "--------------------------------------------------\n",
      "Review: has no range i suppose if you were going to sit in the same room and have lineofsight with the device lamp etc plugged into this control it might work maybe but i had it completely within the stated range and one basic house wall separating me and the unit and it was completely unreliableid recommend spending a touch more money and getting a higher quality product\n",
      "True Label: Negative\n",
      "Predicted Label: Negative\n",
      "--------------------------------------------------\n",
      "Review: wish i had gotten this sooner ive got a lamp in the corner of my room behind my desk thats a complete pain in the arse to turn on and off ive been using this with the lamp for a month now and it works perfectly added a little velcro and now i have a light switch where ever i want under my desk shelf etc\n",
      "True Label: Positive\n",
      "Predicted Label: Positive\n",
      "--------------------------------------------------\n",
      "Review: three days of use and it broke very disappointed in this product it worked perfectly for exactly three days and could not be resuscitated it was very inexpensive so i did not want to pay half again the price to ship it back for an exchange so the company would do nothing when they sent me an inquiry as to product satisfaction\n",
      "True Label: Negative\n",
      "Predicted Label: Negative\n",
      "--------------------------------------------------\n",
      "Review: this is the all time best book this is the all time best book she mentoins in the book how anyone can be a vampire who knows well anyway i like the idea of having one soulmate and one crazed werewolf crush ps i think that it is a good twist on the story about how anone can be part of the night world\n",
      "True Label: Positive\n",
      "Predicted Label: Positive\n",
      "--------------------------------------------------\n",
      "Review: mary ash cant believe i have never reviewed this book before first read this back when i was like a lot of girls wanting the mysterious boyfriend and believed in soulmates which drug me into these books rereading it over time years later still stands the test of time for me ash is that bad boy you want and your parents want you to stay away from even though he seems like a jerk there is just something about him that make you wanna root for him\n",
      "True Label: Positive\n",
      "Predicted Label: Positive\n",
      "--------------------------------------------------\n",
      "Review: tha bomb of a book lj smith is the best author in the whole world i read this book a year ago but i cant stop reading it it is beyond sweet i love ashthe entire night world seris is the bomb i read mostly everyone of lj smiths book and they all are awesome i think ash and mary lynetee are one of the sweetest soulmates i loved how they tried to fight there feelings but couldnt there should be real guys like ashquinnjuliundamongabriel and i can go on forever i think everyone should read at least one lj smith book if you do youll be hooked on them for lifelike i am lj smith is the best\n",
      "True Label: Positive\n",
      "Predicted Label: Positive\n",
      "--------------------------------------------------\n",
      "Review: this book was a great book that i have read many times this book was so great i loved and read it so many times that i will soon have to buy a new copy because my last one fell apart i just hope that there is a follow up on this story because i want to know if marylynette and ash get together\n",
      "True Label: Positive\n",
      "Predicted Label: Positive\n",
      "--------------------------------------------------\n",
      "Review: theyd watch it nonstop if id let them apart from it arriving broken the first time my kids are loving this dvd which i alternate with the other i purchased to keep my own sanity this dvd has created a thomas fan out of my yr old daughter as well\n",
      "True Label: Positive\n",
      "Predicted Label: Positive\n",
      "--------------------------------------------------\n",
      "Review: not as expected my children get easily bored with this video i thought it was several episodes of thomas but it has a lot of just children and parents talking about thomas and all it doesnt keep the kids attention because what kid wants to sit and listen to a bunch of talking this was my first thomas video purchasehopefully the next will have more shows and less talking\n",
      "True Label: Negative\n",
      "Predicted Label: Negative\n",
      "--------------------------------------------------\n",
      "Review: wonderful i went online for information about dockers khaki pants the size my husband wears are very hard to find in stores i was very impressed with the selection i had and he was thrilled to have all these pants without having them taken up in the length the delivery was quick especially during christmas and i really appreciate all the effort made to send us the selections we chose\n",
      "True Label: Positive\n",
      "Predicted Label: Positive\n",
      "--------------------------------------------------\n",
      "Review: doublecharged for shipping because merchant was backordered merchant was out of stock on the second pair of pants so when it was shipped i was charged again when the second pair was in stock weeks laterwill not buy from amazon vendors again\n",
      "True Label: Negative\n",
      "Predicted Label: Negative\n",
      "--------------------------------------------------\n",
      "Review: book of chance i had just finished reading the food of love by anthony capella since i had nothing to do but read mind you reading is one of my favorite pastimesi had recently bought a series of books the food of love was just one of the books i just picked up so i can get that three for the price of two deal at waterstones in london britishs equivalent of barnesnoble i wasnt really interested but it was one of the more interesting options i had well im glad i made the right choice i started reading it last night and i havent put it down sinceif you love food and a little romance which i am both fond of its an excellent book to read mr capella was remarkably thorough in his description of the rich and textured italian dishes that the words assails you with a sense of smell and taste that leaves you hungry for more this book took me by surprise and im sure you would not be disappointed\n",
      "True Label: Positive\n",
      "Predicted Label: Positive\n",
      "--------------------------------------------------\n",
      "Review: light reading light in substance a clichd storyline based on the classic cyrano de bergerac this book reads like a rookie novel written by someone who has a knowledge and passion for italian culture and cuisine but little experience in developing a story i can understand bruno and his passion for cooking but have no clue as to his passion for laura it seems to be primarily based on her being a blonde american how exotic her character is so underdeveloped we know shes studying art history and she enjoys brunos cooking with a passion thats about it and tomasso hes just the clich for any oversexed mediterranean male who encounters foreign femalesits a light and entertaining read if you can get beyond all of the reasons you should put it down and walk away that being said i will however check out this authors more recent novels he does seem to have a way with technical details hopefully his storytelling has caught up\n",
      "True Label: Negative\n",
      "Predicted Label: Positive\n",
      "--------------------------------------------------\n",
      "Test Accuracy: 0.9260375\n",
      "Test Classification Report:\n",
      "               precision    recall  f1-score   support\n",
      "\n",
      "           0       0.93      0.92      0.93    200000\n",
      "           1       0.93      0.93      0.93    200000\n",
      "\n",
      "    accuracy                           0.93    400000\n",
      "   macro avg       0.93      0.93      0.93    400000\n",
      "weighted avg       0.93      0.93      0.93    400000\n",
      "\n"
     ]
    }
   ],
   "source": [
    "# Test the model on the test data\n",
    "y_test_pred = model.predict(X_test_tfidf)\n",
    "\n",
    "print(\"\\n=== Test Set Predictions vs True Labels ===\")\n",
    "for review, true_label, predicted_label in zip(X_test[20:40], y_test[20:40], y_test_pred[20:40]):\n",
    "    true_label_name = \"Positive\" if true_label == 1 else \"Negative\"  # Assuming labels are 1 (Negative) and 2 (Positive)\n",
    "    predicted_label_name = \"Positive\" if predicted_label == 1 else \"Negative\"\n",
    "    \n",
    "    print(f\"Review: {review}\\nTrue Label: {true_label_name}\\nPredicted Label: {predicted_label_name}\")\n",
    "    print(\"-\" * 50)\n",
    "    \n",
    "print(\"Test Accuracy:\", accuracy_score(y_test, y_test_pred))\n",
    "print(\"Test Classification Report:\\n\", classification_report(y_test, y_test_pred))"
   ]
  },
  {
   "cell_type": "code",
   "execution_count": 8,
   "id": "9b9b5310-3277-497a-8060-e270a6432683",
   "metadata": {},
   "outputs": [
    {
     "data": {
      "text/plain": [
       "['tfidf_vectorizer.pkl']"
      ]
     },
     "execution_count": 8,
     "metadata": {},
     "output_type": "execute_result"
    }
   ],
   "source": [
    "import joblib\n",
    "\n",
    "# Save the trained model and vectorizer\n",
    "joblib.dump(model, 'sentiment_model.pkl')\n",
    "joblib.dump(vectorizer, 'tfidf_vectorizer.pkl')\n"
   ]
  },
  {
   "cell_type": "code",
   "execution_count": 14,
   "id": "45730e16-e2ce-49b0-8b51-0734c56e40d7",
   "metadata": {},
   "outputs": [],
   "source": [
    "from flask import Flask, request, jsonify\n",
    "import joblib\n",
    "\n",
    "# Load the model and vectorizer\n",
    "model = joblib.load('sentiment_model.pkl')\n",
    "vectorizer = joblib.load('tfidf_vectorizer.pkl')\n",
    "\n",
    "# Initialize Flask app\n",
    "app = Flask(__name__)\n"
   ]
  },
  {
   "cell_type": "code",
   "execution_count": 11,
   "id": "158f2dd9-8fb4-4a47-bb59-897d02f073b0",
   "metadata": {},
   "outputs": [],
   "source": [
    "@app.route('/predict', methods=['POST'])\n",
    "def predict():\n",
    "    # Get JSON input with the text to analyze\n",
    "    data = request.get_json()\n",
    "    review_text = data.get(\"review\", \"\")\n",
    "\n",
    "    # Transform text using the saved vectorizer\n",
    "    text_vector = vectorizer.transform([review_text])\n",
    "\n",
    "    # Predict sentiment\n",
    "    prediction = model.predict(text_vector)\n",
    "    sentiment = 'positive' if prediction[0] == 1 else 'negative'\n",
    "\n",
    "    # Return JSON response\n",
    "    return jsonify({'review': review_text, 'sentiment': sentiment})\n"
   ]
  },
  {
   "cell_type": "code",
   "execution_count": null,
   "id": "b33d0fbe-ef95-44e4-b743-a792db49498e",
   "metadata": {},
   "outputs": [],
   "source": []
  }
 ],
 "metadata": {
  "kernelspec": {
   "display_name": "Python 3 (ipykernel)",
   "language": "python",
   "name": "python3"
  },
  "language_info": {
   "codemirror_mode": {
    "name": "ipython",
    "version": 3
   },
   "file_extension": ".py",
   "mimetype": "text/x-python",
   "name": "python",
   "nbconvert_exporter": "python",
   "pygments_lexer": "ipython3",
   "version": "3.12.3"
  }
 },
 "nbformat": 4,
 "nbformat_minor": 5
}
